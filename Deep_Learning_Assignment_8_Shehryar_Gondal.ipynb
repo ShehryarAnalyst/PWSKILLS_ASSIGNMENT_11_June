{
 "cells": [
  {
   "cell_type": "markdown",
   "id": "4bb5202f",
   "metadata": {},
   "source": [
    "__Q: What are the different data structures used in TensorFlow? Give some examples.__\n",
    "\n",
    "A: TensorFlow primarily uses two main data structures:\n",
    "\n",
    "Tensors: Tensors are the fundamental building blocks of TensorFlow. They are multi-dimensional arrays and represent the data flowing through the computational graph. Tensors can be scalar (0-dimensional), vectors (1-dimensional), matrices (2-dimensional), or have higher dimensions. Examples of tensors include:\n",
    "\n",
    "Scalar: [5]\n",
    "Vector: [1, 2, 3]\n",
    "Matrix: [[1, 2], [3, 4]]\n",
    "Graphs: TensorFlow uses a computation graph to represent the mathematical operations performed on tensors. The graph defines the flow of data and operations that take tensors as input and produce tensors as output.\n",
    "\n",
    "__Q: How does the TensorFlow constant differ from a TensorFlow variable? Explain with an example.__\n",
    "\n",
    "A: In TensorFlow, constants and variables are two different types of tensors:\n",
    "\n",
    "Constants: Constants are tensors whose value cannot be changed during the execution of the graph. They are typically used to represent fixed values or hyperparameters. Once defined, their value remains constant throughout the graph's execution. Example:\n",
    "\n",
    "\n",
    "import tensorflow as tf\n",
    "\n",
    "# Creating a TensorFlow constant\n",
    "constant_tensor = tf.constant([1, 2, 3])\n",
    "Variables: Variables are tensors that can change their value during the execution of the graph. They are used to hold trainable parameters, such as weights and biases, that are updated during the training process. Example:\n",
    "\n",
    "import tensorflow as tf\n",
    "\n",
    "# Creating a TensorFlow variable\n",
    "initial_values = tf.random.normal(shape=(3,))\n",
    "variable_tensor = tf.Variable(initial_values)\n",
    "\n",
    "__Q: Describe the process of matrix addition, multiplication, and element-wise operations in TensorFlow.__\n",
    "\n",
    "A: In TensorFlow, matrix addition, multiplication, and element-wise operations are performed using tensor operations:\n",
    "\n",
    "Matrix Addition: To add two matrices, the tf.add() function is used. Both matrices must have the same shape.\n",
    "\n",
    "import tensorflow as tf\n",
    "\n",
    "# Matrix Addition\n",
    "matrix_A = tf.constant([[1, 2], [3, 4]])\n",
    "matrix_B = tf.constant([[5, 6], [7, 8]])\n",
    "result_addition = tf.add(matrix_A, matrix_B)\n",
    "Matrix Multiplication: To multiply two matrices, the tf.matmul() function or the @ operator can be used.\n",
    "\n",
    "\n",
    "import tensorflow as tf\n",
    "\n",
    "# Matrix Multiplication\n",
    "matrix_A = tf.constant([[1, 2], [3, 4]])\n",
    "matrix_B = tf.constant([[5, 6], [7, 8]])\n",
    "result_multiplication = tf.matmul(matrix_A, matrix_B)\n",
    "# Alternatively: result_multiplication = matrix_A @ matrix_B\n",
    "Element-wise Operations: Element-wise operations perform operations element by element in two tensors of the same shape. Common element-wise operations include addition (tf.add()), subtraction (tf.subtract()), multiplication (tf.multiply()), and division (tf.divide()).\n",
    "\n",
    "import tensorflow as tf\n",
    "\n",
    "# Element-wise operations\n",
    "tensor_A = tf.constant([1, 2, 3])\n",
    "tensor_B = tf.constant([4, 5, 6])\n",
    "result_element_wise_addition = tf.add(tensor_A, tensor_B)\n",
    "result_element_wise_subtraction = tf.subtract(tensor_A, tensor_B)\n",
    "result_element_wise_multiplication = tf.multiply(tensor_A, tensor_B)\n",
    "result_element_wise_division = tf.divide(tensor_A, tensor_B)\n",
    "In TensorFlow, these operations are executed as part of a computational graph, enabling efficient and optimized calculations on tensors."
   ]
  },
  {
   "cell_type": "code",
   "execution_count": 1,
   "id": "752b5573",
   "metadata": {},
   "outputs": [
    {
     "name": "stdout",
     "output_type": "stream",
     "text": [
      "Matrix A:\n",
      "[[ 0.5535151  -0.96056587]\n",
      " [ 1.3661344  -1.4548182 ]]\n",
      "\n",
      "Matrix B:\n",
      "[[ 0.28496647 -1.2424446 ]\n",
      " [ 0.43053865 -0.53638697]]\n",
      "\n",
      "Matrix C:\n",
      "[[1.8541374 1.9708749]\n",
      " [2.1641717 2.0134406]]\n",
      "\n",
      "Matrix D (result of A + B):\n",
      "[[ 0.83848155 -2.2030106 ]\n",
      " [ 1.796673   -1.9912052 ]]\n",
      "\n",
      "Matrix E (result of C * D):\n",
      "[[ 5.095678  -8.009101 ]\n",
      " [ 5.4321127 -8.776867 ]]\n"
     ]
    }
   ],
   "source": [
    "import tensorflow as tf\n",
    "\n",
    "# Task Tc: Create a normal matrix A with dimensions 2x2\n",
    "matrix_A = tf.random.normal(shape=(2, 2), mean=0, stddev=1)\n",
    "print(\"Matrix A:\")\n",
    "print(matrix_A.numpy())\n",
    "\n",
    "# Task Cc: Create a Gaussian matrix B with dimensions 2x2\n",
    "matrix_B = tf.random.truncated_normal(shape=(2, 2), mean=0, stddev=1)\n",
    "print(\"\\nMatrix B:\")\n",
    "print(matrix_B.numpy())\n",
    "\n",
    "# Task =c: Create a matrix C with dimensions 2x2, drawn from a normal distribution with mean=2 and stddev=0.x\n",
    "matrix_C = tf.random.normal(shape=(2, 2), mean=2, stddev=0.1)\n",
    "print(\"\\nMatrix C:\")\n",
    "print(matrix_C.numpy())\n",
    "\n",
    "# Task ~c: Perform matrix addition between matrix A and matrix B, store the result in matrix D\n",
    "matrix_D = tf.add(matrix_A, matrix_B)\n",
    "print(\"\\nMatrix D (result of A + B):\")\n",
    "print(matrix_D.numpy())\n",
    "\n",
    "# Task wc: Perform matrix multiplication between matrix C and matrix D, store the result in matrix E\n",
    "matrix_E = tf.matmul(matrix_C, matrix_D)\n",
    "print(\"\\nMatrix E (result of C * D):\")\n",
    "print(matrix_E.numpy())"
   ]
  },
  {
   "cell_type": "code",
   "execution_count": 2,
   "id": "08335452",
   "metadata": {},
   "outputs": [
    {
     "name": "stdout",
     "output_type": "stream",
     "text": [
      "Matrix F:\n",
      "[[0.6900246  0.482067  ]\n",
      " [0.60584843 0.87183213]]\n",
      "\n",
      "Matrix G (transpose of F):\n",
      "[[0.6900246  0.60584843]\n",
      " [0.482067   0.87183213]]\n",
      "\n",
      "Matrix H (element-wise exponential of F):\n",
      "[[1.9937646 1.6194183]\n",
      " [1.8328066 2.391288 ]]\n",
      "\n",
      "Matrix I (concatenation of F and G horizontally):\n",
      "[[0.6900246  0.482067   0.6900246  0.60584843]\n",
      " [0.60584843 0.87183213 0.482067   0.87183213]]\n",
      "\n",
      "Matrix J (concatenation of F and H vertically):\n",
      "[[0.6900246  0.482067  ]\n",
      " [0.60584843 0.87183213]\n",
      " [1.9937646  1.6194183 ]\n",
      " [1.8328066  2.391288  ]]\n"
     ]
    }
   ],
   "source": [
    "\n",
    "# Task Tc: Create a matrix F with dimensions 2x2, initialized with random values using random_uniform\n",
    "matrix_F = tf.random.uniform(shape=(2, 2))\n",
    "print(\"Matrix F:\")\n",
    "print(matrix_F.numpy())\n",
    "\n",
    "# Task Cc: Calculate the transpose of matrix F and store the result in matrix G\n",
    "matrix_G = tf.transpose(matrix_F)\n",
    "print(\"\\nMatrix G (transpose of F):\")\n",
    "print(matrix_G.numpy())\n",
    "\n",
    "# Task =c: Calculate the element-wise exponential of matrix F and store the result in matrix H\n",
    "matrix_H = tf.exp(matrix_F)\n",
    "print(\"\\nMatrix H (element-wise exponential of F):\")\n",
    "print(matrix_H.numpy())\n",
    "\n",
    "# Task ~c: Create a matrix I by concatenating matrix F and matrix G horizontally\n",
    "matrix_I = tf.concat([matrix_F, matrix_G], axis=1)\n",
    "print(\"\\nMatrix I (concatenation of F and G horizontally):\")\n",
    "print(matrix_I.numpy())\n",
    "\n",
    "# Task wc: Create a matrix J by concatenating matrix F and matrix H vertically\n",
    "matrix_J = tf.concat([matrix_F, matrix_H], axis=0)\n",
    "print(\"\\nMatrix J (concatenation of F and H vertically):\")\n",
    "print(matrix_J.numpy())"
   ]
  }
 ],
 "metadata": {
  "kernelspec": {
   "display_name": "Python 3 (ipykernel)",
   "language": "python",
   "name": "python3"
  },
  "language_info": {
   "codemirror_mode": {
    "name": "ipython",
    "version": 3
   },
   "file_extension": ".py",
   "mimetype": "text/x-python",
   "name": "python",
   "nbconvert_exporter": "python",
   "pygments_lexer": "ipython3",
   "version": "3.10.9"
  },
  "varInspector": {
   "cols": {
    "lenName": 16,
    "lenType": 16,
    "lenVar": 40
   },
   "kernels_config": {
    "python": {
     "delete_cmd_postfix": "",
     "delete_cmd_prefix": "del ",
     "library": "var_list.py",
     "varRefreshCmd": "print(var_dic_list())"
    },
    "r": {
     "delete_cmd_postfix": ") ",
     "delete_cmd_prefix": "rm(",
     "library": "var_list.r",
     "varRefreshCmd": "cat(var_dic_list()) "
    }
   },
   "types_to_exclude": [
    "module",
    "function",
    "builtin_function_or_method",
    "instance",
    "_Feature"
   ],
   "window_display": false
  }
 },
 "nbformat": 4,
 "nbformat_minor": 5
}
